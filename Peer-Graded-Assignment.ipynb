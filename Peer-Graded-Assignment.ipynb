{
 "cells": [
  {
   "cell_type": "markdown",
   "id": "4e511c11",
   "metadata": {},
   "source": [
    "# Peer Graded Assignmetnt (Tools for Data Science)"
   ]
  },
  {
   "cell_type": "markdown",
   "id": "108e2fbe",
   "metadata": {},
   "source": [
    "## Data Science Languages\n",
    "\n",
    "* Pyhton\n",
    "* R\n",
    "* Scala\n",
    "* julia"
   ]
  },
  {
   "cell_type": "markdown",
   "id": "584ee30d",
   "metadata": {},
   "source": [
    "## Data Science Libraries\n",
    "\n",
    "* Numpy\n",
    "* Pandas\n",
    "* Scikit-Learn\n",
    "* seaborn\n",
    "* matplotlib\n",
    "* ggplot\n",
    "* tensorflow\n",
    "* pytorch"
   ]
  },
  {
   "cell_type": "markdown",
   "id": "04e86fee",
   "metadata": {},
   "source": [
    "## Data Science Tools\n",
    "\n",
    "| Sr# |    Tools   |\n",
    "|:---:|:----------:|\n",
    "|  1  | Python   |\n",
    "|  2  | jupyterlab |\n",
    "|  3  | numpy |\n",
    "|  4  | apache |"
   ]
  },
  {
   "cell_type": "markdown",
   "id": "500bcf6a",
   "metadata": {},
   "source": [
    "## Arithmetic Expression:\n",
    "> Arithmetic expression are used for calculation and these are: +, -, *, /"
   ]
  },
  {
   "cell_type": "code",
   "execution_count": 1,
   "id": "ff4856d2",
   "metadata": {},
   "outputs": [
    {
     "name": "stdout",
     "output_type": "stream",
     "text": [
      "Multiply 40\n",
      "Add 11\n"
     ]
    }
   ],
   "source": [
    "print(\"Multiply\", 5*8)\n",
    "print(\"Add\", 2+9)"
   ]
  },
  {
   "cell_type": "code",
   "execution_count": 2,
   "id": "fda4dc89",
   "metadata": {},
   "outputs": [
    {
     "data": {
      "text/plain": [
       "3"
      ]
     },
     "execution_count": 2,
     "metadata": {},
     "output_type": "execute_result"
    }
   ],
   "source": [
    "minutes = 180\n",
    "hours = int(180/60)\n",
    "hours"
   ]
  },
  {
   "cell_type": "markdown",
   "id": "ef331dab",
   "metadata": {},
   "source": [
    "## Objective\n",
    "> Data science tools aim to streamline data collection, cleaning, analysis, visualization, and modeling to derive meaningful insights and make data-driven decisions. They enable data scientists to efficiently work with large datasets and apply various statistical and machine learning techniques."
   ]
  },
  {
   "cell_type": "markdown",
   "id": "e8f2a358",
   "metadata": {},
   "source": [
    "## Fernando Pérez, Brian Granger"
   ]
  },
  {
   "cell_type": "code",
   "execution_count": null,
   "id": "e9f762da",
   "metadata": {},
   "outputs": [],
   "source": []
  }
 ],
 "metadata": {
  "kernelspec": {
   "display_name": "Python 3 (ipykernel)",
   "language": "python",
   "name": "python3"
  },
  "language_info": {
   "codemirror_mode": {
    "name": "ipython",
    "version": 3
   },
   "file_extension": ".py",
   "mimetype": "text/x-python",
   "name": "python",
   "nbconvert_exporter": "python",
   "pygments_lexer": "ipython3",
   "version": "3.11.0"
  }
 },
 "nbformat": 4,
 "nbformat_minor": 5
}
