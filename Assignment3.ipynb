{
 "cells": [
  {
   "cell_type": "markdown",
   "id": "affed443-265a-4dbe-9027-cb6589fd46f9",
   "metadata": {
    "tags": []
   },
   "source": [
    "<h1 style=\"text-align:center; color:red;\">Demo Assignment</h1>"
   ]
  },
  {
   "cell_type": "markdown",
   "id": "772a5e43-5162-4492-bafb-1d81c73cea24",
   "metadata": {
    "tags": []
   },
   "source": [
    "<h3 style=\"color:red\">Demonstration of ADD Function</h3>"
   ]
  },
  {
   "cell_type": "code",
   "execution_count": null,
   "id": "f09fade3-fd74-4ee5-aaee-8fbb9a316a4a",
   "metadata": {
    "nbgrader": {
     "grade": false,
     "grade_id": "cell-f8f2704b389591e1",
     "locked": false,
     "schema_version": 3,
     "solution": true,
     "task": false
    },
    "tags": []
   },
   "outputs": [],
   "source": [
    "# Cell 1, cell metadata=autograded-answer\n",
    "def add(a, b):\n",
    "    ### BEGIN SOLUTION\n",
    "    c = a + b\n",
    "    ### END SOLUTION\n",
    "    return c"
   ]
  },
  {
   "cell_type": "code",
   "execution_count": null,
   "id": "ab251b5f-b1e6-4f11-9ab6-83299620d28b",
   "metadata": {
    "nbgrader": {
     "grade": true,
     "grade_id": "cell-6fdff3cccf499fea",
     "locked": true,
     "points": 3,
     "schema_version": 3,
     "solution": false,
     "task": false
    },
    "tags": []
   },
   "outputs": [],
   "source": [
    "# Cell 2, cell metadata=autograder-tests\n",
    "assert add(1, 2) == 3\n",
    "### BEGIN HIDDEN TESTS\n",
    "assert add(-1, 2) == 1\n",
    "### END HIDDEN TESTS"
   ]
  },
  {
   "cell_type": "markdown",
   "id": "a96c7faf-804b-440c-9dc4-0265e5da2ca9",
   "metadata": {
    "jp-MarkdownHeadingCollapsed": true,
    "tags": []
   },
   "source": [
    "<h3 style=\"color:red\">Demonstration of SUBTRACT Function</h3>"
   ]
  },
  {
   "cell_type": "code",
   "execution_count": null,
   "id": "469c3a0a-873c-48f7-b6ad-788fe52201b9",
   "metadata": {
    "nbgrader": {
     "grade": false,
     "grade_id": "cell-9d53fcc21662701a",
     "locked": false,
     "schema_version": 3,
     "solution": true,
     "task": false
    },
    "tags": []
   },
   "outputs": [],
   "source": [
    "# Cell 1, cell metadata=autograded-answer\n",
    "def subtract(a, b):\n",
    "    ### BEGIN SOLUTION\n",
    "    c = a - b\n",
    "    ### END SOLUTION\n",
    "    return c"
   ]
  },
  {
   "cell_type": "code",
   "execution_count": null,
   "id": "d3395859-7448-4ca2-897f-c51b9f09faad",
   "metadata": {
    "nbgrader": {
     "grade": true,
     "grade_id": "cell-22d5407ed9757a16",
     "locked": true,
     "points": 3,
     "schema_version": 3,
     "solution": false,
     "task": false
    },
    "tags": []
   },
   "outputs": [],
   "source": [
    "# Cell 2, cell metadata=autograder-tests\n",
    "assert subtract(1, 2) == -1\n",
    "### BEGIN HIDDEN TESTS\n",
    "assert subtract(-1, 2) == -3\n",
    "### END HIDDEN TESTS"
   ]
  },
  {
   "cell_type": "markdown",
   "id": "bc4c39dd-9cba-4980-8f18-aa7cfe90abf1",
   "metadata": {
    "jp-MarkdownHeadingCollapsed": true,
    "tags": []
   },
   "source": [
    "<h3 style=\"color:red\">Demonstration of MULTIPLY Function</h3>"
   ]
  },
  {
   "cell_type": "code",
   "execution_count": null,
   "id": "c708258b-1a89-4574-95ce-207b34427f0e",
   "metadata": {
    "nbgrader": {
     "grade": false,
     "grade_id": "cell-9b3bf79d6f7c753a",
     "locked": false,
     "schema_version": 3,
     "solution": true,
     "task": false
    },
    "tags": []
   },
   "outputs": [],
   "source": [
    "# Cell 1, cell metadata=autograded-answer\n",
    "def multiply(a, b):\n",
    "    ### BEGIN SOLUTION\n",
    "    c = a * b\n",
    "    ### END SOLUTION\n",
    "    return c"
   ]
  },
  {
   "cell_type": "code",
   "execution_count": null,
   "id": "e4bb4fdb-8124-4d12-9e70-0d47659e0ad8",
   "metadata": {
    "nbgrader": {
     "grade": true,
     "grade_id": "cell-fb83a713eb11ac1a",
     "locked": true,
     "points": 5,
     "schema_version": 3,
     "solution": false,
     "task": false
    },
    "tags": []
   },
   "outputs": [],
   "source": [
    "# Cell 2, cell metadata=autograder-tests\n",
    "assert multiply(1, 2) == 2\n",
    "### BEGIN HIDDEN TESTS\n",
    "assert multiply(-1, 2) == -2\n",
    "### END HIDDEN TESTS"
   ]
  },
  {
   "cell_type": "markdown",
   "id": "8dece851-9379-4634-8d93-ab190bb22361",
   "metadata": {
    "jp-MarkdownHeadingCollapsed": true,
    "tags": []
   },
   "source": [
    "<h3 style=\"color:red\">Demonstration of DIVIDE Function</h3>"
   ]
  },
  {
   "cell_type": "code",
   "execution_count": null,
   "id": "42789ca2-1657-4967-88b1-b768099cdde9",
   "metadata": {
    "nbgrader": {
     "grade": false,
     "grade_id": "cell-51c5c3b04bd1e4c9",
     "locked": false,
     "schema_version": 3,
     "solution": true,
     "task": false
    },
    "tags": []
   },
   "outputs": [],
   "source": [
    "# Cell 1, cell metadata=autograded-answer\n",
    "def divide(a, b):\n",
    "    ### BEGIN SOLUTION\n",
    "    c = a / b\n",
    "    ### END SOLUTION\n",
    "    return c"
   ]
  },
  {
   "cell_type": "code",
   "execution_count": null,
   "id": "6cabc5f6-2878-42ac-9cfd-97f0f5a18e92",
   "metadata": {
    "nbgrader": {
     "grade": true,
     "grade_id": "cell-18c539aa81d75695",
     "locked": true,
     "points": 5,
     "schema_version": 3,
     "solution": false,
     "task": false
    },
    "tags": []
   },
   "outputs": [],
   "source": [
    "# Cell 2, cell metadata=autograder-tests\n",
    "assert divide(1, 2) == 0.5\n",
    "### BEGIN HIDDEN TESTS\n",
    "assert divide(-1, 2) == -0.5\n",
    "### END HIDDEN TESTS"
   ]
  }
 ],
 "metadata": {
  "kernelspec": {
   "display_name": "Python 3 (ipykernel)",
   "language": "python",
   "name": "python3"
  },
  "language_info": {
   "codemirror_mode": {
    "name": "ipython",
    "version": 3
   },
   "file_extension": ".py",
   "mimetype": "text/x-python",
   "name": "python",
   "nbconvert_exporter": "python",
   "pygments_lexer": "ipython3",
   "version": "3.10.6"
  }
 },
 "nbformat": 4,
 "nbformat_minor": 5
}
