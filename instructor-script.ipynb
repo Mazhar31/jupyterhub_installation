{
 "cells": [
  {
   "cell_type": "markdown",
   "id": "28af1cbb",
   "metadata": {
    "jp-MarkdownHeadingCollapsed": true,
    "tags": []
   },
   "source": [
    "# Instructor's side script for config file"
   ]
  },
  {
   "cell_type": "code",
   "execution_count": null,
   "id": "bc8a6878-59c2-49a5-ab7e-85e683a9bc89",
   "metadata": {
    "tags": []
   },
   "outputs": [],
   "source": [
    "steps = [True, True, True, True, True, True, True, True, True, True, True, True]"
   ]
  },
  {
   "cell_type": "code",
   "execution_count": null,
   "id": "2879a9f0-b58f-4297-967d-e04230429592",
   "metadata": {
    "tags": []
   },
   "outputs": [],
   "source": [
    "import subprocess\n",
    "import os\n",
    "import pandas as pd\n",
    "\n",
    "if(steps[0]):\n",
    "    steps[0] = False\n",
    "    data = pd.read_csv('data.csv')\n",
    "    data.columns = ['course', 'instructor']\n",
    "    course = data['course'].to_string(index=False)\n",
    "    instructor = data['instructor'].to_string(index=False)\n",
    "\n",
    "\n",
    "\n",
    "    # Change directory to ~/.jupyter/\n",
    "    os.chdir(os.path.expanduser(\"~/.jupyter/\"))\n",
    "\n",
    "    # Run the nbgrader generate_config command\n",
    "    subprocess.run([\"nbgrader\", \"generate_config\"])\n",
    "\n",
    "\n",
    "    print('--------------------------------------------------------')\n",
    "    print('****************** Success!!!! *************************')\n",
    "    print('--------------------------------------------------------')\n",
    "\n",
    "else:\n",
    "    print(\"\\nYou already executed this step!\\n\")\n",
    "    "
   ]
  },
  {
   "cell_type": "code",
   "execution_count": null,
   "id": "7b5d7e8e-0982-489d-9214-d8df674bbdd8",
   "metadata": {
    "tags": []
   },
   "outputs": [],
   "source": [
    "if(steps[1]):\n",
    "    steps[1] = False\n",
    "    with open(f'/home/{instructor}/.jupyter/nbgrader_config.py', 'r') as f:\n",
    "        lines = f.readlines()\n",
    "\n",
    "    new_lines = [\n",
    "        f'\\n\\nc.CourseDirectory.root = \\'/home/{instructor}/{course}\\'\\n',\n",
    "        f'c.CourseDirectory.course_id = \\'{course}\\'\\n',\n",
    "        '\\n',\n",
    "        'c.GenerateFeedback.preprocessors = [\\n',\n",
    "        '    \\'nbgrader.preprocessors.GetGrades\\',\\n',\n",
    "        '    \\'nbconvert.preprocessors.CSSHTMLHeaderPreprocessor\\',\\n',\n",
    "        '    # remove: hidden tests from feedback:\\n',\n",
    "        '    #\\'nbgrader.preprocessors.ClearHiddenTests\\',\\n',\n",
    "        '    # remove tracebacks of hidden tests from feedback\\n',\n",
    "        '    #\\'nbgrader.preprocessors.Execute\\',\\n',\n",
    "        ']\\n',\n",
    "        '\\n'\n",
    "    ]\n",
    "\n",
    "    lines[3:3] = new_lines\n",
    "\n",
    "    with open('nbgrader_config.py', 'w') as f:\n",
    "        f.writelines(lines)\n",
    "\n",
    "\n",
    "\n",
    "    print('--------------------------------------------------------')\n",
    "    print('******Configuration file updated successfully!**********')\n",
    "    print('--------------------------------------------------------')\n",
    "    \n",
    "else:\n",
    "    print(\"\\nYou already executed this step!\\n\")"
   ]
  },
  {
   "cell_type": "code",
   "execution_count": null,
   "id": "63144fa1-2765-4433-8be2-df81b75ba621",
   "metadata": {
    "tags": []
   },
   "outputs": [],
   "source": [
    "if(steps[2]):\n",
    "    steps[2] = False\n",
    "    os.makedirs(os.path.expanduser(f'~/{course}'), exist_ok=True)\n",
    "    # Change directory to ~/course\n",
    "    os.chdir(os.path.expanduser(f\"~/{course}\"))\n",
    "\n",
    "    print('--------------------------------------------------------')\n",
    "    print('************ Course directory created! *****************')\n",
    "    print('--------------------------------------------------------')\n",
    "    \n",
    "else:\n",
    "    print(\"\\nYou already executed this step!\\n\")\n"
   ]
  },
  {
   "cell_type": "markdown",
   "id": "0ed9cc33-4d31-44e1-9a4d-dbf5e941b684",
   "metadata": {
    "tags": []
   },
   "source": [
    "# Assignment Section Related Tasks"
   ]
  },
  {
   "cell_type": "markdown",
   "id": "2024bfa5-b938-4411-8777-6a358c6633dd",
   "metadata": {
    "jp-MarkdownHeadingCollapsed": true,
    "tags": []
   },
   "source": [
    "### Adding assignmet to DB"
   ]
  },
  {
   "cell_type": "code",
   "execution_count": null,
   "id": "898e41bf-6045-439e-8e63-fe2e9a473b00",
   "metadata": {
    "tags": []
   },
   "outputs": [],
   "source": [
    "if(steps[3]):\n",
    "    steps[3] = False\n",
    "    \n",
    "    from datetime import date,timedelta\n",
    "    assignment = input('Please Input the Assignment Name: ')\n",
    "    today = date.today() + timedelta(days=10)\n",
    "    duedate = today.strftime(\"%Y-%m-%d\")\n",
    "else:\n",
    "    print(\"\\nYou already executed this step!\\n\")\n",
    "\n"
   ]
  },
  {
   "cell_type": "code",
   "execution_count": null,
   "id": "00c94b16-dcdc-46ee-a0be-ddf3ac76cf37",
   "metadata": {
    "tags": []
   },
   "outputs": [],
   "source": [
    "if(steps[4]):\n",
    "    steps[4] = False\n",
    "    !nbgrader db assignment add {assignment} --duedate={duedate}\n",
    "    os.makedirs(os.path.expanduser(f'~/{course}/source/{assignment}/'), exist_ok=True)\n",
    "    print('--------------------------------------------------------')\n",
    "    print(f'************ {assignment} added to the DB. ***********')\n",
    "    print('--------------------------------------------------------')\n",
    "\n",
    "\n",
    "\n",
    "    #print(f\"{assignment} added to the DB.\")\n",
    "\n",
    "    \n",
    "else:\n",
    "    print(\"\\nYou already executed this step!\\n\")\n",
    "\n"
   ]
  },
  {
   "cell_type": "markdown",
   "id": "f8566f20-af03-4126-be18-cd3e2d7744dc",
   "metadata": {
    "jp-MarkdownHeadingCollapsed": true,
    "tags": []
   },
   "source": [
    "<h3 style=\"color:red\"> Paste assignment file to course -> source -> assignment </h3>"
   ]
  },
  {
   "cell_type": "markdown",
   "id": "3394c3ad-db21-49a3-9b95-e597fa0edcb9",
   "metadata": {
    "jp-MarkdownHeadingCollapsed": true,
    "tags": []
   },
   "source": [
    "### Generate assignment "
   ]
  },
  {
   "cell_type": "code",
   "execution_count": null,
   "id": "9be0c49e-3d0e-4fda-aaf6-3f7530044e1e",
   "metadata": {},
   "outputs": [],
   "source": [
    "if(steps[5]):\n",
    "    steps[5] = False\n",
    "    !nbgrader generate_assignment {assignment}\n",
    "    #print(f\"{assignment} generated.\")\n",
    "\n",
    "    print('--------------------------------------------------------')\n",
    "    print(f'************ {assignment} generated       . ***********')\n",
    "    print('--------------------------------------------------------')\n",
    "    \n",
    "else:\n",
    "    print(\"\\nYou already executed this step!\\n\")\n",
    "\n",
    "\n"
   ]
  },
  {
   "cell_type": "markdown",
   "id": "b9e7caa9-00ce-40ee-b81c-3719646723c0",
   "metadata": {
    "jp-MarkdownHeadingCollapsed": true,
    "tags": []
   },
   "source": [
    "## Run this script to insert bulk sultions from LMS to Grader "
   ]
  },
  {
   "cell_type": "code",
   "execution_count": null,
   "id": "72e2a824-2649-4c3c-b0f2-707bdb23a25c",
   "metadata": {},
   "outputs": [],
   "source": [
    "import zipfile\n",
    "import os\n",
    "\n",
    "if(steps[7]):\n",
    "    steps[7] = False\n",
    "    \n",
    "    # path to the zip file\n",
    "    zip_path = f\"/home/{instructor}/solutions.zip\"\n",
    "\n",
    "    # create a directory to store the extracted files\n",
    "    extract_dir = f\"/home/{instructor}/{course}/submitted\"\n",
    "    if not os.path.exists(extract_dir):\n",
    "        os.makedirs(extract_dir)\n",
    "\n",
    "    # open the zip file\n",
    "    with zipfile.ZipFile(zip_path, 'r') as zip_ref:\n",
    "        # loop through all the files in the zip\n",
    "        for filename in zip_ref.namelist():\n",
    "            # check if the file is a notebook assignment\n",
    "            if filename.endswith('.ipynb'):\n",
    "                # get the student ID from the filename\n",
    "                student_id = filename.split('_')[-1].split('.')[0]\n",
    "                # get the assignment number from the filename\n",
    "                assignment_num = filename.split('_')[2]\n",
    "                # get the new filename\n",
    "                new_filename = filename.split('_')[-2] + '.ipynb'\n",
    "                # create the student directory if it doesn't exist\n",
    "                student_dir = os.path.join(extract_dir, student_id)\n",
    "                if not os.path.exists(student_dir):\n",
    "                    os.makedirs(student_dir)\n",
    "                # create the assignment directory if it doesn't exist\n",
    "                assignment_dir = os.path.join(student_dir, \"Assignment\"+assignment_num)\n",
    "                if not os.path.exists(assignment_dir):\n",
    "                    os.makedirs(assignment_dir)\n",
    "                # extract the file to the assignment directory with the original filename\n",
    "                zip_ref.extract(filename, assignment_dir)\n",
    "                # rename the file with the new filename\n",
    "                os.rename(os.path.join(assignment_dir, filename), os.path.join(assignment_dir, \"Assignment\"+new_filename))\n",
    "                # add due date text file to the assignment directory\n",
    "                with open(os.path.join(assignment_dir, 'timestamp.txt'), 'w') as f:\n",
    "                    f.write('2023-06-11 12:00:00 UTC')\n",
    "\n",
    "    print('------------------------------------------------------------------------')\n",
    "    print(f'*** Student Solutions of {assignment} are uploaded Successfully. ******')\n",
    "    print('------------------------------------------------------------------------')\n",
    "else:\n",
    "    print(\"\\nYou already executed this step!\\n\")\n",
    "\n",
    "\n"
   ]
  },
  {
   "cell_type": "markdown",
   "id": "76954f45-7cb4-4b66-9541-cbe97347573f",
   "metadata": {
    "jp-MarkdownHeadingCollapsed": true,
    "tags": []
   },
   "source": [
    "## To auto grade all assignmets of this course"
   ]
  },
  {
   "cell_type": "code",
   "execution_count": null,
   "id": "00e8677b-329d-470a-a1c5-959a94476698",
   "metadata": {},
   "outputs": [],
   "source": [
    "if(steps[8]):\n",
    "    steps[8] = False\n",
    "    \n",
    "    !nbgrader autograde {assignment}\n",
    "\n",
    "    print('----------------------------------------------')\n",
    "    print('All the assignments are graded successfully!!!!')\n",
    "    print('----------------------------------------------')\n",
    "else:\n",
    "    print(\"\\nYou already executed this step!\\n\")\n",
    "\n"
   ]
  },
  {
   "cell_type": "markdown",
   "id": "5a9cf487-ff6a-4d08-ab1f-255a0164be48",
   "metadata": {
    "jp-MarkdownHeadingCollapsed": true,
    "tags": []
   },
   "source": [
    "## Generate HTML feeback with comments "
   ]
  },
  {
   "cell_type": "code",
   "execution_count": null,
   "id": "04f3f4bf-8ad3-49ab-9942-2cdbae1d189b",
   "metadata": {},
   "outputs": [],
   "source": [
    "if(steps[9]):\n",
    "    steps[9] = False\n",
    "    !nbgrader generate_feedback {assignment}\n",
    "    print('---------------------------------------------------------')\n",
    "    print('All the assignments feedback are created successfully!!!!')\n",
    "    print('---------------------------------------------------------')\n",
    "    \n",
    "else:\n",
    "    print(\"\\nYou already executed this step!\\n\")\n",
    "\n"
   ]
  },
  {
   "cell_type": "markdown",
   "id": "0f896283-e119-4bb8-987e-7baee33341af",
   "metadata": {
    "jp-MarkdownHeadingCollapsed": true,
    "tags": []
   },
   "source": [
    "## Exporting Graders Details of each assignmnet "
   ]
  },
  {
   "cell_type": "code",
   "execution_count": null,
   "id": "94241177-460c-453b-9ecd-2c13f9388734",
   "metadata": {},
   "outputs": [],
   "source": [
    "if(steps[10]):\n",
    "    steps[10] = False\n",
    "    \n",
    "    !nbgrader export\n",
    "\n",
    "    print('-----------------------------------------------------------')\n",
    "    print(f'Result of {assignment} has been generated successfully!!!!')\n",
    "    print('-----------------------------------------------------------')\n",
    "    \n",
    "else:\n",
    "    print(\"\\nYou already executed this step!\\n\")\n",
    "\n"
   ]
  },
  {
   "cell_type": "markdown",
   "id": "9217d400-cb40-46e5-b5a8-e7a2ad50f60c",
   "metadata": {
    "jp-MarkdownHeadingCollapsed": true,
    "tags": []
   },
   "source": [
    "## Script to download feedback files"
   ]
  },
  {
   "cell_type": "code",
   "execution_count": null,
   "id": "9c353a16-7bcc-49eb-9bc2-9c40c314231f",
   "metadata": {},
   "outputs": [],
   "source": [
    "if(steps[11]):\n",
    "    import os\n",
    "    import shutil\n",
    "    import zipfile\n",
    "\n",
    "    def copy_html_files(parent_dir, course):\n",
    "        # Set the name of the grandchild folder containing the HTML file\n",
    "        grandchild_folder_name = f\"{assignment}\"\n",
    "\n",
    "        # Loop through each child folder in the parent folder\n",
    "        for child_folder_name in os.listdir(parent_dir):\n",
    "            child_folder_path = os.path.join(parent_dir, child_folder_name)\n",
    "            if os.path.isdir(child_folder_path):\n",
    "                # Check if the grandchild folder exists within the child folder\n",
    "                grandchild_folder_path = os.path.join(child_folder_path, grandchild_folder_name)\n",
    "                if os.path.exists(grandchild_folder_path):\n",
    "                    # Find the HTML file within the grandchild folder\n",
    "                    html_file_path = None\n",
    "                    for file_name in os.listdir(grandchild_folder_path):\n",
    "                        if file_name.endswith(\".html\"):\n",
    "                            html_file_path = os.path.join(grandchild_folder_path, file_name)\n",
    "                            break\n",
    "                    if html_file_path is not None:\n",
    "                        # Rename the HTML file and copy it to the parent folder\n",
    "                        grandchild_folder_name2 = grandchild_folder_name[-1:]\n",
    "                        new_file_name = \"Fall2023_{}_{}_{}.html\".format(course, grandchild_folder_name2, child_folder_name)\n",
    "                        new_file_path = os.path.join(parent_dir, \"feedback_marked\", new_file_name)\n",
    "\n",
    "                        # Create the 'xyz' directory if it doesn't exist\n",
    "                        os.makedirs(os.path.dirname(new_file_path), exist_ok=True)\n",
    "\n",
    "                        shutil.copy(html_file_path, new_file_path)\n",
    "\n",
    "        # Create a zip file of the 'xyz' directory\n",
    "        zip_file_path = os.path.join(parent_dir, \"feedback_marked.zip\")\n",
    "        with zipfile.ZipFile(zip_file_path, \"w\") as zip_file:\n",
    "            for file_name in os.listdir(os.path.join(parent_dir, \"feedback_marked\")):\n",
    "                file_path = os.path.join(parent_dir, \"feedback_marked\", file_name)\n",
    "                zip_file.write(file_path, file_name)\n",
    "\n",
    "        # Delete the 'xyz' directory\n",
    "        shutil.rmtree(os.path.join(parent_dir, \"feedback_marked\"))\n",
    "\n",
    "    # Example usage:\n",
    "    parent_dir = f\"/home/{instructor}/{course}/feedback/\"\n",
    "    copy_html_files(parent_dir, course)\n",
    "\n",
    "\n",
    "    print('------------------------------------------------------------')\n",
    "    print(f'******** {assignment} marked feedback generated. **********')\n",
    "    print('----------/course/feedback/feedback_marked.zip  ------------')\n",
    "    \n",
    "else:\n",
    "    print(\"\\nYou already executed this step!\\n\")\n"
   ]
  }
 ],
 "metadata": {
  "kernelspec": {
   "display_name": "Python 3 (ipykernel)",
   "language": "python",
   "name": "python3"
  },
  "language_info": {
   "codemirror_mode": {
    "name": "ipython",
    "version": 3
   },
   "file_extension": ".py",
   "mimetype": "text/x-python",
   "name": "python",
   "nbconvert_exporter": "python",
   "pygments_lexer": "ipython3",
   "version": "3.10.6"
  }
 },
 "nbformat": 4,
 "nbformat_minor": 5
}
