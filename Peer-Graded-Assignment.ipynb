{
 "cells": [
  {
   "cell_type": "markdown",
   "id": "4e7ec9da",
   "metadata": {},
   "source": [
    "# Peer Graded Assignmetnt (Tools for Data Science)"
   ]
  },
  {
   "cell_type": "markdown",
   "id": "cc30c236",
   "metadata": {},
   "source": [
    "## Data Science Languages\n",
    "\n",
    "* Pyhton\n",
    "* R\n",
    "* Scala\n",
    "* julia"
   ]
  },
  {
   "cell_type": "markdown",
   "id": "e8583d5c",
   "metadata": {},
   "source": [
    "## Data Science Libraries\n",
    "\n",
    "* Numpy\n",
    "* Pandas\n",
    "* Scikit-Learn\n",
    "* seaborn\n",
    "* matplotlib\n",
    "* ggplot\n",
    "* tensorflow\n",
    "* pytorch"
   ]
  },
  {
   "cell_type": "markdown",
   "id": "6c9e8d80",
   "metadata": {},
   "source": [
    "## Data Science Tools\n",
    "\n",
    "| Sr# |    Tools   |\n",
    "|:---:|:----------:|\n",
    "|  1  | Python   |\n",
    "|  2  | jupyterlab |\n",
    "|  3  | numpy |\n",
    "|  4  | apache |"
   ]
  },
  {
   "cell_type": "markdown",
   "id": "a8a66514",
   "metadata": {},
   "source": [
    "## Arithmetic Expression:\n",
    "> Arithmetic expression are used for calculation and these are: +, -, *, /"
   ]
  },
  {
   "cell_type": "code",
   "execution_count": 1,
   "id": "2cc697f9",
   "metadata": {},
   "outputs": [
    {
     "name": "stdout",
     "output_type": "stream",
     "text": [
      "Multiply 40\n",
      "Add 11\n"
     ]
    }
   ],
   "source": [
    "print(\"Multiply\", 5*8)\n",
    "print(\"Add\", 2+9)"
   ]
  },
  {
   "cell_type": "code",
   "execution_count": 2,
   "id": "32ca9071",
   "metadata": {},
   "outputs": [
    {
     "data": {
      "text/plain": [
       "3"
      ]
     },
     "execution_count": 2,
     "metadata": {},
     "output_type": "execute_result"
    }
   ],
   "source": [
    "minutes = 180\n",
    "hours = int(180/60)\n",
    "hours"
   ]
  },
  {
   "cell_type": "markdown",
   "id": "45f3a3fe",
   "metadata": {},
   "source": [
    "## Objective\n",
    "> "
   ]
  },
  {
   "cell_type": "code",
   "execution_count": null,
   "id": "1d12af00",
   "metadata": {},
   "outputs": [],
   "source": []
  }
 ],
 "metadata": {
  "kernelspec": {
   "display_name": "Python 3 (ipykernel)",
   "language": "python",
   "name": "python3"
  },
  "language_info": {
   "codemirror_mode": {
    "name": "ipython",
    "version": 3
   },
   "file_extension": ".py",
   "mimetype": "text/x-python",
   "name": "python",
   "nbconvert_exporter": "python",
   "pygments_lexer": "ipython3",
   "version": "3.11.0"
  }
 },
 "nbformat": 4,
 "nbformat_minor": 5
}
