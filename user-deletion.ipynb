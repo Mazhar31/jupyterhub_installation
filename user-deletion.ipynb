{
 "cells": [
  {
   "cell_type": "code",
   "execution_count": 1,
   "id": "35d5996b-18c8-42c3-b931-02bf0af22b9d",
   "metadata": {
    "tags": []
   },
   "outputs": [
    {
     "data": {
      "text/html": [
       "<button id=\"delete-users-btn\">Delete Users</button>\n",
       "\n",
       "<script>\n",
       "document.getElementById('delete-users-btn').onclick = function() {\n",
       "    var sudoPassword = prompt(\"Please enter your sudo password:\");\n",
       "\n",
       "    var kernel = Jupyter.notebook.kernel;\n",
       "    var code = `\n",
       "import subprocess\n",
       "\n",
       "usernames_to_delete = ['bc180402110', 'bc180402112', 'bc190202025', 'bc190202026', 'bc190204547', 'bc190204548', 'bc190305523', 'bc190305599']\n",
       "sudo_password = \"${sudoPassword}\"\n",
       "\n",
       "for username in usernames_to_delete:\n",
       "    try:\n",
       "        subprocess.run(['sudo', '-S', 'userdel', '-r', username], check=True, input=sudo_password.encode())\n",
       "        print(f\"User {username} has been deleted.\")\n",
       "    except subprocess.CalledProcessError as e:\n",
       "        print(f\"An error occurred while deleting user {username}: {e.stderr.decode().strip()}\")\n",
       "`;\n",
       "\n",
       "    kernel.execute(code);\n",
       "}\n",
       "</script>\n"
      ],
      "text/plain": [
       "<IPython.core.display.HTML object>"
      ]
     },
     "metadata": {},
     "output_type": "display_data"
    }
   ],
   "source": [
    "%%html\n",
    "<button id=\"delete-users-btn\">Delete Users</button>\n",
    "\n",
    "<script>\n",
    "document.getElementById('delete-users-btn').onclick = function() {\n",
    "    var sudoPassword = prompt(\"Please enter your sudo password:\");\n",
    "\n",
    "    var kernel = Jupyter.notebook.kernel;\n",
    "    var code = `\n",
    "import subprocess\n",
    "\n",
    "usernames_to_delete = ['bc180402110', 'bc180402112', 'bc190202025', 'bc190202026', 'bc190204547', 'bc190204548', 'bc190305523', 'bc190305599']\n",
    "sudo_password = \"${sudoPassword}\"\n",
    "\n",
    "for username in usernames_to_delete:\n",
    "    try:\n",
    "        subprocess.run(['sudo', '-S', 'userdel', '-r', username], check=True, input=sudo_password.encode())\n",
    "        print(f\"User {username} has been deleted.\")\n",
    "    except subprocess.CalledProcessError as e:\n",
    "        print(f\"An error occurred while deleting user {username}: {e.stderr.decode().strip()}\")\n",
    "`;\n",
    "\n",
    "    kernel.execute(code);\n",
    "}\n",
    "</script>\n"
   ]
  },
  {
   "cell_type": "code",
   "execution_count": null,
   "id": "0f9b719d-13a5-4268-94dc-492af4bfbd46",
   "metadata": {},
   "outputs": [],
   "source": []
  }
 ],
 "metadata": {
  "kernelspec": {
   "display_name": "Python 3 (ipykernel)",
   "language": "python",
   "name": "python3"
  },
  "language_info": {
   "codemirror_mode": {
    "name": "ipython",
    "version": 3
   },
   "file_extension": ".py",
   "mimetype": "text/x-python",
   "name": "python",
   "nbconvert_exporter": "python",
   "pygments_lexer": "ipython3",
   "version": "3.10.6"
  }
 },
 "nbformat": 4,
 "nbformat_minor": 5
}
